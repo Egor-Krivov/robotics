{
 "cells": [
  {
   "cell_type": "markdown",
   "metadata": {},
   "source": [
    "## Import sympy"
   ]
  },
  {
   "cell_type": "code",
   "execution_count": 1,
   "metadata": {
    "collapsed": true
   },
   "outputs": [],
   "source": [
    "from sympy import *\n",
    "import numpy as np\n",
    "\n",
    "init_printing(use_unicode=True)"
   ]
  },
  {
   "cell_type": "markdown",
   "metadata": {},
   "source": [
    "## Transforming symbolic variables and symbolic matrix T_{i-1, i}"
   ]
  },
  {
   "cell_type": "code",
   "execution_count": 2,
   "metadata": {
    "collapsed": true
   },
   "outputs": [],
   "source": [
    "def create_variables(i):\n",
    "    alpha = Symbol('alpha_{0}'.format(i-1))\n",
    "    a = Symbol('a_{0}'.format(i-1))\n",
    "    d = Symbol('d_{0}'.format(i))\n",
    "    theta = Symbol('theta_{0}'.format(i))\n",
    "    return alpha, a, d, theta\n",
    "\n",
    "def create_matrix(alpha, a, d, theta):\n",
    "    T = Matrix([[cos(theta), -sin(theta), 0, a], \n",
    "              [sin(theta)*cos(alpha), cos(theta)*cos(alpha), -sin(alpha), -sin(alpha)*d], \n",
    "              [sin(theta)*sin(alpha), cos(theta)*sin(alpha), cos(alpha),  cos(alpha)*d],\n",
    "              [0, 0, 0, 1]])\n",
    "    return T"
   ]
  },
  {
   "cell_type": "code",
   "execution_count": 3,
   "metadata": {},
   "outputs": [
    {
     "data": {
      "image/png": "[encoded data removed]",
      "text/latex": [
       "$$\\left[\\begin{matrix}\\cos{\\left (\\theta \\right )} & - \\sin{\\left (\\theta \\right )} & 0 & 0\\\\0 & 0 & -1 & 0\\\\\\sin{\\left (\\theta \\right )} & \\cos{\\left (\\theta \\right )} & 0 & 0\\\\0 & 0 & 0 & 1\\end{matrix}\\right]$$"
      ],
      "text/plain": [
       "⎡cos(θ)  -sin(θ)  0   0⎤\n",
       "⎢                      ⎥\n",
       "⎢  0        0     -1  0⎥\n",
       "⎢                      ⎥\n",
       "⎢sin(θ)  cos(θ)   0   0⎥\n",
       "⎢                      ⎥\n",
       "⎣  0        0     0   1⎦"
      ]
     },
     "execution_count": 3,
     "metadata": {},
     "output_type": "execute_result"
    }
   ],
   "source": [
    "create_matrix(pi/2, 0, 0, Symbol('theta'))"
   ]
  },
  {
   "cell_type": "markdown",
   "metadata": {},
   "source": [
    "## Parameters of the robot"
   ]
  },
  {
   "cell_type": "code",
   "execution_count": 4,
   "metadata": {
    "collapsed": true
   },
   "outputs": [],
   "source": [
    "n_frames = 5\n",
    "\n",
    "# here we should input our parameters, which depend on configuration\n",
    "table = [[pi/2,  0, 0,             Symbol('theta_1') - pi/2],\n",
    "         [-pi/2, 0, 0,             Symbol('theta_2') + pi/2],\n",
    "         [pi/2,  0, Symbol('L_1'), Symbol('theta_3') + pi/2],\n",
    "         [-pi/2, 0, 0,             Symbol('theta_4') - pi/2],\n",
    "         [0,     Symbol('L_2'),    0, 0]]"
   ]
  },
  {
   "cell_type": "code",
   "execution_count": 5,
   "metadata": {},
   "outputs": [],
   "source": [
    "n_frames = 5\n",
    "\n",
    "# here we should input our parameters, which depend on configuration\n",
    "table = [[0,  0,             0, Symbol('theta_1')],\n",
    "         [0,  Symbol('L_1'), 0, Symbol('theta_2')],\n",
    "         [0,  Symbol('L_2'), 0, 0]]"
   ]
  },
  {
   "cell_type": "markdown",
   "metadata": {},
   "source": [
    "## Calculating "
   ]
  },
  {
   "cell_type": "code",
   "execution_count": 5,
   "metadata": {},
   "outputs": [],
   "source": [
    "transformation_matrices = [create_matrix(*inputs) for inputs in table]"
   ]
  },
  {
   "cell_type": "code",
   "execution_count": 6,
   "metadata": {},
   "outputs": [
    {
     "data": {
      "image/png": "[encoded data removed]",
      "text/latex": [
       "$$\\left [ \\left[\\begin{matrix}\\sin{\\left (\\theta_{1} \\right )} & \\cos{\\left (\\theta_{1} \\right )} & 0 & 0\\\\0 & 0 & -1 & 0\\\\- \\cos{\\left (\\theta_{1} \\right )} & \\sin{\\left (\\theta_{1} \\right )} & 0 & 0\\\\0 & 0 & 0 & 1\\end{matrix}\\right], \\quad \\left[\\begin{matrix}- \\sin{\\left (\\theta_{2} \\right )} & - \\cos{\\left (\\theta_{2} \\right )} & 0 & 0\\\\0 & 0 & 1 & 0\\\\- \\cos{\\left (\\theta_{2} \\right )} & \\sin{\\left (\\theta_{2} \\right )} & 0 & 0\\\\0 & 0 & 0 & 1\\end{matrix}\\right], \\quad \\left[\\begin{matrix}- \\sin{\\left (\\theta_{3} \\right )} & - \\cos{\\left (\\theta_{3} \\right )} & 0 & 0\\\\0 & 0 & -1 & - L_{1}\\\\\\cos{\\left (\\theta_{3} \\right )} & - \\sin{\\left (\\theta_{3} \\right )} & 0 & 0\\\\0 & 0 & 0 & 1\\end{matrix}\\right], \\quad \\left[\\begin{matrix}\\sin{\\left (\\theta_{4} \\right )} & \\cos{\\left (\\theta_{4} \\right )} & 0 & 0\\\\0 & 0 & 1 & 0\\\\\\cos{\\left (\\theta_{4} \\right )} & - \\sin{\\left (\\theta_{4} \\right )} & 0 & 0\\\\0 & 0 & 0 & 1\\end{matrix}\\right], \\quad \\left[\\begin{matrix}1 & 0 & 0 & L_{2}\\\\0 & 1 & 0 & 0\\\\0 & 0 & 1 & 0\\\\0 & 0 & 0 & 1\\end{matrix}\\right]\\right ]$$"
      ],
      "text/plain": [
       "⎡⎡sin(θ₁)   cos(θ₁)  0   0⎤  ⎡-sin(θ₂)  -cos(θ₂)  0  0⎤  ⎡-sin(θ₃)  -cos(θ₃)  \n",
       "⎢⎢                        ⎥  ⎢                        ⎥  ⎢                    \n",
       "⎢⎢   0         0     -1  0⎥  ⎢   0         0      1  0⎥  ⎢   0         0      \n",
       "⎢⎢                        ⎥, ⎢                        ⎥, ⎢                    \n",
       "⎢⎢-cos(θ₁)  sin(θ₁)  0   0⎥  ⎢-cos(θ₂)  sin(θ₂)   0  0⎥  ⎢cos(θ₃)   -sin(θ₃)  \n",
       "⎢⎢                        ⎥  ⎢                        ⎥  ⎢                    \n",
       "⎣⎣   0         0     0   1⎦  ⎣   0         0      0  1⎦  ⎣   0         0      \n",
       "\n",
       "0    0 ⎤  ⎡sin(θ₄)  cos(θ₄)   0  0⎤  ⎡1  0  0  L₂⎤⎤\n",
       "       ⎥  ⎢                       ⎥  ⎢           ⎥⎥\n",
       "-1  -L₁⎥  ⎢   0        0      1  0⎥  ⎢0  1  0  0 ⎥⎥\n",
       "       ⎥, ⎢                       ⎥, ⎢           ⎥⎥\n",
       "0    0 ⎥  ⎢cos(θ₄)  -sin(θ₄)  0  0⎥  ⎢0  0  1  0 ⎥⎥\n",
       "       ⎥  ⎢                       ⎥  ⎢           ⎥⎥\n",
       "0    1 ⎦  ⎣   0        0      0  1⎦  ⎣0  0  0  1 ⎦⎦"
      ]
     },
     "execution_count": 6,
     "metadata": {},
     "output_type": "execute_result"
    }
   ],
   "source": [
    "transformation_matrices"
   ]
  },
  {
   "cell_type": "code",
   "execution_count": 7,
   "metadata": {},
   "outputs": [
    {
     "data": {
      "image/png": "[encoded data removed]",
      "text/latex": [
       "$$\\left [ \\left[\\begin{matrix}f_{x}\\\\f_{y}\\\\f_{z}\\end{matrix}\\right]\\right ]$$"
      ],
      "text/plain": [
       "⎡⎡fₓ ⎤⎤\n",
       "⎢⎢   ⎥⎥\n",
       "⎢⎢f_y⎥⎥\n",
       "⎢⎢   ⎥⎥\n",
       "⎣⎣f_z⎦⎦"
      ]
     },
     "execution_count": 7,
     "metadata": {},
     "output_type": "execute_result"
    }
   ],
   "source": [
    "F = Matrix([Symbol('f_x'), Symbol('f_y'), Symbol('f_z')])\n",
    "fs = [F]\n",
    "ns = [Matrix([0, 0, 0])]\n",
    "fs"
   ]
  },
  {
   "cell_type": "code",
   "execution_count": 8,
   "metadata": {},
   "outputs": [],
   "source": [
    "def find_prev(f, n, t):\n",
    "    r, p = t[:3, :3], t[:-1, 3]\n",
    "\n",
    "    f_prev = r * f\n",
    "    n_prev = r * n + p.cross(f_prev)\n",
    "    return f_prev, n_prev"
   ]
  },
  {
   "cell_type": "code",
   "execution_count": 9,
   "metadata": {},
   "outputs": [],
   "source": [
    "for t in reversed(transformation_matrices[1:]):\n",
    "    f, n = find_prev(fs[0], ns[0], t)\n",
    "    ns.insert(0, n)\n",
    "    fs.insert(0, f)"
   ]
  },
  {
   "cell_type": "code",
   "execution_count": 15,
   "metadata": {},
   "outputs": [
    {
     "data": {
      "image/png": "[encoded data removed]",
      "text/latex": [
       "$$\\left [ - L_{2} f_{z} \\sin{\\left (\\theta_{2} \\right )} \\sin{\\left (\\theta_{4} \\right )} - \\left(- L_{1} \\left(- f_{z} \\sin{\\left (\\theta_{3} \\right )} + \\left(f_{x} \\sin{\\left (\\theta_{4} \\right )} + f_{y} \\cos{\\left (\\theta_{4} \\right )}\\right) \\cos{\\left (\\theta_{3} \\right )}\\right) - L_{2} f_{y} \\cos{\\left (\\theta_{3} \\right )} + L_{2} f_{z} \\sin{\\left (\\theta_{3} \\right )} \\cos{\\left (\\theta_{4} \\right )}\\right) \\cos{\\left (\\theta_{2} \\right )}, \\quad L_{1} \\left(- f_{z} \\cos{\\left (\\theta_{3} \\right )} - \\left(f_{x} \\sin{\\left (\\theta_{4} \\right )} + f_{y} \\cos{\\left (\\theta_{4} \\right )}\\right) \\sin{\\left (\\theta_{3} \\right )}\\right) - L_{2} f_{y} \\sin{\\left (\\theta_{3} \\right )} - L_{2} f_{z} \\cos{\\left (\\theta_{3} \\right )} \\cos{\\left (\\theta_{4} \\right )}, \\quad L_{2} f_{z} \\sin{\\left (\\theta_{4} \\right )}, \\quad L_{2} f_{y}\\right ]$$"
      ],
      "text/plain": [
       "[-L₂⋅f_z⋅sin(θ₂)⋅sin(θ₄) - (-L₁⋅(-f_z⋅sin(θ₃) + (fₓ⋅sin(θ₄) + f_y⋅cos(θ₄))⋅cos\n",
       "(θ₃)) - L₂⋅f_y⋅cos(θ₃) + L₂⋅f_z⋅sin(θ₃)⋅cos(θ₄))⋅cos(θ₂), L₁⋅(-f_z⋅cos(θ₃) - (\n",
       "fₓ⋅sin(θ₄) + f_y⋅cos(θ₄))⋅sin(θ₃)) - L₂⋅f_y⋅sin(θ₃) - L₂⋅f_z⋅cos(θ₃)⋅cos(θ₄), \n",
       "L₂⋅f_z⋅sin(θ₄), L₂⋅f_y]"
      ]
     },
     "execution_count": 15,
     "metadata": {},
     "output_type": "execute_result"
    }
   ],
   "source": [
    "taus = [n[2] for n in ns]\n",
    "simplify(taus[:-1])"
   ]
  },
  {
   "cell_type": "markdown",
   "metadata": {},
   "source": [
    "## Substituting paramteres to T_final"
   ]
  },
  {
   "cell_type": "code",
   "execution_count": 18,
   "metadata": {
    "collapsed": true
   },
   "outputs": [],
   "source": [
    "tau = taus[-2]"
   ]
  },
  {
   "cell_type": "code",
   "execution_count": 22,
   "metadata": {},
   "outputs": [
    {
     "data": {
      "image/png": "[encoded data removed]",
      "text/latex": [
       "$$\\left [ 4.4 N m, \\quad - 2.75 N m, \\quad 0, \\quad 2.0 N m\\right ]$$"
      ],
      "text/plain": [
       "[4.4⋅N⋅m, -2.75⋅N⋅m, 0, 2.0⋅N⋅m]"
      ]
     },
     "execution_count": 22,
     "metadata": {},
     "output_type": "execute_result"
    }
   ],
   "source": [
    "[tau.subs({Symbol('f_x'): 10 * Symbol('N'),\n",
    "         Symbol('f_y'): 8 * Symbol('N'),\n",
    "         Symbol('f_z'): 5 * Symbol('N'),\n",
    "         Symbol('L_1'): 0.3 * Symbol('m'),\n",
    "         Symbol('L_2'): 0.25 * Symbol('m'),\n",
    "         Symbol('theta_1'): 0,\n",
    "          Symbol('theta_2'): 0,\n",
    "          Symbol('theta_3'): 0,\n",
    "          Symbol('theta_4'): 0})\n",
    " for tau in taus[:-1]]"
   ]
  }
 ],
 "metadata": {
  "kernelspec": {
   "display_name": "Python 3",
   "language": "python",
   "name": "python3"
  },
  "language_info": {
   "codemirror_mode": {
    "name": "ipython",
    "version": 3
   },
   "file_extension": ".py",
   "mimetype": "text/x-python",
   "name": "python",
   "nbconvert_exporter": "python",
   "pygments_lexer": "ipython3",
   "version": "3.6.3"
  }
 },
 "nbformat": 4,
 "nbformat_minor": 2
}
